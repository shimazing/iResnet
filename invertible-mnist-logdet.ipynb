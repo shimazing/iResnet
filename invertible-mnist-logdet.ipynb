{
 "cells": [
  {
   "cell_type": "code",
   "execution_count": 1,
   "metadata": {},
   "outputs": [],
   "source": [
    "%matplotlib inline"
   ]
  },
  {
   "cell_type": "code",
   "execution_count": 2,
   "metadata": {},
   "outputs": [],
   "source": [
    "%matplotlib notebook\n",
    "import os\n",
    "#os.environ[\"CUDA_VISIBLE_DEVICES\"] = '1' #'0, 1, 2, 3'\n",
    "#import multiprocessing as mp\n",
    "#mp.set_start_method('forkserver')"
   ]
  },
  {
   "cell_type": "code",
   "execution_count": 3,
   "metadata": {},
   "outputs": [],
   "source": [
    "import torch.nn.functional as F\n",
    "import torch\n",
    "torch.cuda.set_device(1)\n",
    "import torch.nn as nn\n",
    "from torch.nn.utils import weight_norm, spectral_norm\n",
    "from tqdm import tqdm_notebook as tqdm\n",
    "from collections import Counter\n",
    "import numpy as np\n",
    "import numpy as np \n",
    "from matplotlib import pyplot as plt\n",
    "from torch.optim import *\n",
    "from InvertibleResnet import *"
   ]
  },
  {
   "cell_type": "code",
   "execution_count": 4,
   "metadata": {},
   "outputs": [],
   "source": [
    "import torch\n",
    "import torchvision\n",
    "import torchvision.transforms as transforms\n",
    "transform = transforms.Compose(\n",
    "    [   transforms.Pad(2),\n",
    "        transforms.ToTensor(),     \n",
    "     transforms.Normalize((0.5,), (0.5,))])\n",
    "\n",
    "trainset = torchvision.datasets.MNIST(root='./data', train=True,\n",
    "                                        download=True, transform=transform)\n",
    "trainloader = torch.utils.data.DataLoader(trainset, batch_size=128,\n",
    "                                          shuffle=True, num_workers=2)"
   ]
  },
  {
   "cell_type": "code",
   "execution_count": 5,
   "metadata": {},
   "outputs": [],
   "source": [
    "testset = torchvision.datasets.MNIST(root='./data', train=False,\n",
    "                                       download=True, transform=transform)\n",
    "testloader = torch.utils.data.DataLoader(testset, batch_size=256,\n",
    "                                         shuffle=True, num_workers=2)"
   ]
  },
  {
   "cell_type": "code",
   "execution_count": 6,
   "metadata": {},
   "outputs": [],
   "source": [
    "#testnet = InvertibleResnetConv(1,32, list_num_blocks=(32,32,32)).cuda()"
   ]
  },
  {
   "cell_type": "code",
   "execution_count": 7,
   "metadata": {},
   "outputs": [],
   "source": [
    "#b = testnet(next(iter(trainloader))[0].cuda(), return_logdet=True)"
   ]
  },
  {
   "cell_type": "code",
   "execution_count": 6,
   "metadata": {},
   "outputs": [],
   "source": [
    "from torch.distributions import *\n",
    "std = 1\n",
    "ndim = 32*32\n",
    "height,width = 32,32\n",
    "n_bins = 5\n",
    "pzes = []\n",
    "logdets = []\n",
    "losses = []\n",
    "latent_numpys =[]\n",
    "gaussian = Normal(0.0,std)\n",
    "normal_np = gaussian.sample((20000,2)).numpy()"
   ]
  },
  {
   "cell_type": "code",
   "execution_count": 7,
   "metadata": {},
   "outputs": [],
   "source": [
    "net = InvertibleResnetConv(1,32, list_num_blocks=(10,10,10)).cuda()\n",
    "#net = torch.nn.DataParallel(net).cuda()\n",
    "optim = Adam(net.parameters(), lr=0.001, eps=1e-4)"
   ]
  },
  {
   "cell_type": "code",
   "execution_count": 8,
   "metadata": {},
   "outputs": [
    {
     "name": "stdout",
     "output_type": "stream",
     "text": [
      "torch.Size([1, 64, 4, 4])\n"
     ]
    }
   ],
   "source": [
    "latent = net(testset[0][0].unsqueeze(0).cuda(), return_logdet=False)\n",
    "fixed_z = torch.randn_like(latent).cuda() #[torch.randn_like(l[:1]).cuda() for l in latent]\n",
    "print(fixed_z.shape)\n"
   ]
  },
  {
   "cell_type": "code",
   "execution_count": 9,
   "metadata": {
    "scrolled": false
   },
   "outputs": [
    {
     "data": {
      "application/javascript": [
       "/* Put everything inside the global mpl namespace */\n",
       "window.mpl = {};\n",
       "\n",
       "\n",
       "mpl.get_websocket_type = function() {\n",
       "    if (typeof(WebSocket) !== 'undefined') {\n",
       "        return WebSocket;\n",
       "    } else if (typeof(MozWebSocket) !== 'undefined') {\n",
       "        return MozWebSocket;\n",
       "    } else {\n",
       "        alert('Your browser does not have WebSocket support.' +\n",
       "              'Please try Chrome, Safari or Firefox ≥ 6. ' +\n",
       "              'Firefox 4 and 5 are also supported but you ' +\n",
       "              'have to enable WebSockets in about:config.');\n",
       "    };\n",
       "}\n",
       "\n",
       "mpl.figure = function(figure_id, websocket, ondownload, parent_element) {\n",
       "    this.id = figure_id;\n",
       "\n",
       "    this.ws = websocket;\n",
       "\n",
       "    this.supports_binary = (this.ws.binaryType != undefined);\n",
       "\n",
       "    if (!this.supports_binary) {\n",
       "        var warnings = document.getElementById(\"mpl-warnings\");\n",
       "        if (warnings) {\n",
       "            warnings.style.display = 'block';\n",
       "            warnings.textContent = (\n",
       "                \"This browser does not support binary websocket messages. \" +\n",
       "                    \"Performance may be slow.\");\n",
       "        }\n",
       "    }\n",
       "\n",
       "    this.imageObj = new Image();\n",
       "\n",
       "    this.context = undefined;\n",
       "    this.message = undefined;\n",
       "    this.canvas = undefined;\n",
       "    this.rubberband_canvas = undefined;\n",
       "    this.rubberband_context = undefined;\n",
       "    this.format_dropdown = undefined;\n",
       "\n",
       "    this.image_mode = 'full';\n",
       "\n",
       "    this.root = $('<div/>');\n",
       "    this._root_extra_style(this.root)\n",
       "    this.root.attr('style', 'display: inline-block');\n",
       "\n",
       "    $(parent_element).append(this.root);\n",
       "\n",
       "    this._init_header(this);\n",
       "    this._init_canvas(this);\n",
       "    this._init_toolbar(this);\n",
       "\n",
       "    var fig = this;\n",
       "\n",
       "    this.waiting = false;\n",
       "\n",
       "    this.ws.onopen =  function () {\n",
       "            fig.send_message(\"supports_binary\", {value: fig.supports_binary});\n",
       "            fig.send_message(\"send_image_mode\", {});\n",
       "            if (mpl.ratio != 1) {\n",
       "                fig.send_message(\"set_dpi_ratio\", {'dpi_ratio': mpl.ratio});\n",
       "            }\n",
       "            fig.send_message(\"refresh\", {});\n",
       "        }\n",
       "\n",
       "    this.imageObj.onload = function() {\n",
       "            if (fig.image_mode == 'full') {\n",
       "                // Full images could contain transparency (where diff images\n",
       "                // almost always do), so we need to clear the canvas so that\n",
       "                // there is no ghosting.\n",
       "                fig.context.clearRect(0, 0, fig.canvas.width, fig.canvas.height);\n",
       "            }\n",
       "            fig.context.drawImage(fig.imageObj, 0, 0);\n",
       "        };\n",
       "\n",
       "    this.imageObj.onunload = function() {\n",
       "        fig.ws.close();\n",
       "    }\n",
       "\n",
       "    this.ws.onmessage = this._make_on_message_function(this);\n",
       "\n",
       "    this.ondownload = ondownload;\n",
       "}\n",
       "\n",
       "mpl.figure.prototype._init_header = function() {\n",
       "    var titlebar = $(\n",
       "        '<div class=\"ui-dialog-titlebar ui-widget-header ui-corner-all ' +\n",
       "        'ui-helper-clearfix\"/>');\n",
       "    var titletext = $(\n",
       "        '<div class=\"ui-dialog-title\" style=\"width: 100%; ' +\n",
       "        'text-align: center; padding: 3px;\"/>');\n",
       "    titlebar.append(titletext)\n",
       "    this.root.append(titlebar);\n",
       "    this.header = titletext[0];\n",
       "}\n",
       "\n",
       "\n",
       "\n",
       "mpl.figure.prototype._canvas_extra_style = function(canvas_div) {\n",
       "\n",
       "}\n",
       "\n",
       "\n",
       "mpl.figure.prototype._root_extra_style = function(canvas_div) {\n",
       "\n",
       "}\n",
       "\n",
       "mpl.figure.prototype._init_canvas = function() {\n",
       "    var fig = this;\n",
       "\n",
       "    var canvas_div = $('<div/>');\n",
       "\n",
       "    canvas_div.attr('style', 'position: relative; clear: both; outline: 0');\n",
       "\n",
       "    function canvas_keyboard_event(event) {\n",
       "        return fig.key_event(event, event['data']);\n",
       "    }\n",
       "\n",
       "    canvas_div.keydown('key_press', canvas_keyboard_event);\n",
       "    canvas_div.keyup('key_release', canvas_keyboard_event);\n",
       "    this.canvas_div = canvas_div\n",
       "    this._canvas_extra_style(canvas_div)\n",
       "    this.root.append(canvas_div);\n",
       "\n",
       "    var canvas = $('<canvas/>');\n",
       "    canvas.addClass('mpl-canvas');\n",
       "    canvas.attr('style', \"left: 0; top: 0; z-index: 0; outline: 0\")\n",
       "\n",
       "    this.canvas = canvas[0];\n",
       "    this.context = canvas[0].getContext(\"2d\");\n",
       "\n",
       "    var backingStore = this.context.backingStorePixelRatio ||\n",
       "\tthis.context.webkitBackingStorePixelRatio ||\n",
       "\tthis.context.mozBackingStorePixelRatio ||\n",
       "\tthis.context.msBackingStorePixelRatio ||\n",
       "\tthis.context.oBackingStorePixelRatio ||\n",
       "\tthis.context.backingStorePixelRatio || 1;\n",
       "\n",
       "    mpl.ratio = (window.devicePixelRatio || 1) / backingStore;\n",
       "\n",
       "    var rubberband = $('<canvas/>');\n",
       "    rubberband.attr('style', \"position: absolute; left: 0; top: 0; z-index: 1;\")\n",
       "\n",
       "    var pass_mouse_events = true;\n",
       "\n",
       "    canvas_div.resizable({\n",
       "        start: function(event, ui) {\n",
       "            pass_mouse_events = false;\n",
       "        },\n",
       "        resize: function(event, ui) {\n",
       "            fig.request_resize(ui.size.width, ui.size.height);\n",
       "        },\n",
       "        stop: function(event, ui) {\n",
       "            pass_mouse_events = true;\n",
       "            fig.request_resize(ui.size.width, ui.size.height);\n",
       "        },\n",
       "    });\n",
       "\n",
       "    function mouse_event_fn(event) {\n",
       "        if (pass_mouse_events)\n",
       "            return fig.mouse_event(event, event['data']);\n",
       "    }\n",
       "\n",
       "    rubberband.mousedown('button_press', mouse_event_fn);\n",
       "    rubberband.mouseup('button_release', mouse_event_fn);\n",
       "    // Throttle sequential mouse events to 1 every 20ms.\n",
       "    rubberband.mousemove('motion_notify', mouse_event_fn);\n",
       "\n",
       "    rubberband.mouseenter('figure_enter', mouse_event_fn);\n",
       "    rubberband.mouseleave('figure_leave', mouse_event_fn);\n",
       "\n",
       "    canvas_div.on(\"wheel\", function (event) {\n",
       "        event = event.originalEvent;\n",
       "        event['data'] = 'scroll'\n",
       "        if (event.deltaY < 0) {\n",
       "            event.step = 1;\n",
       "        } else {\n",
       "            event.step = -1;\n",
       "        }\n",
       "        mouse_event_fn(event);\n",
       "    });\n",
       "\n",
       "    canvas_div.append(canvas);\n",
       "    canvas_div.append(rubberband);\n",
       "\n",
       "    this.rubberband = rubberband;\n",
       "    this.rubberband_canvas = rubberband[0];\n",
       "    this.rubberband_context = rubberband[0].getContext(\"2d\");\n",
       "    this.rubberband_context.strokeStyle = \"#000000\";\n",
       "\n",
       "    this._resize_canvas = function(width, height) {\n",
       "        // Keep the size of the canvas, canvas container, and rubber band\n",
       "        // canvas in synch.\n",
       "        canvas_div.css('width', width)\n",
       "        canvas_div.css('height', height)\n",
       "\n",
       "        canvas.attr('width', width * mpl.ratio);\n",
       "        canvas.attr('height', height * mpl.ratio);\n",
       "        canvas.attr('style', 'width: ' + width + 'px; height: ' + height + 'px;');\n",
       "\n",
       "        rubberband.attr('width', width);\n",
       "        rubberband.attr('height', height);\n",
       "    }\n",
       "\n",
       "    // Set the figure to an initial 600x600px, this will subsequently be updated\n",
       "    // upon first draw.\n",
       "    this._resize_canvas(600, 600);\n",
       "\n",
       "    // Disable right mouse context menu.\n",
       "    $(this.rubberband_canvas).bind(\"contextmenu\",function(e){\n",
       "        return false;\n",
       "    });\n",
       "\n",
       "    function set_focus () {\n",
       "        canvas.focus();\n",
       "        canvas_div.focus();\n",
       "    }\n",
       "\n",
       "    window.setTimeout(set_focus, 100);\n",
       "}\n",
       "\n",
       "mpl.figure.prototype._init_toolbar = function() {\n",
       "    var fig = this;\n",
       "\n",
       "    var nav_element = $('<div/>')\n",
       "    nav_element.attr('style', 'width: 100%');\n",
       "    this.root.append(nav_element);\n",
       "\n",
       "    // Define a callback function for later on.\n",
       "    function toolbar_event(event) {\n",
       "        return fig.toolbar_button_onclick(event['data']);\n",
       "    }\n",
       "    function toolbar_mouse_event(event) {\n",
       "        return fig.toolbar_button_onmouseover(event['data']);\n",
       "    }\n",
       "\n",
       "    for(var toolbar_ind in mpl.toolbar_items) {\n",
       "        var name = mpl.toolbar_items[toolbar_ind][0];\n",
       "        var tooltip = mpl.toolbar_items[toolbar_ind][1];\n",
       "        var image = mpl.toolbar_items[toolbar_ind][2];\n",
       "        var method_name = mpl.toolbar_items[toolbar_ind][3];\n",
       "\n",
       "        if (!name) {\n",
       "            // put a spacer in here.\n",
       "            continue;\n",
       "        }\n",
       "        var button = $('<button/>');\n",
       "        button.addClass('ui-button ui-widget ui-state-default ui-corner-all ' +\n",
       "                        'ui-button-icon-only');\n",
       "        button.attr('role', 'button');\n",
       "        button.attr('aria-disabled', 'false');\n",
       "        button.click(method_name, toolbar_event);\n",
       "        button.mouseover(tooltip, toolbar_mouse_event);\n",
       "\n",
       "        var icon_img = $('<span/>');\n",
       "        icon_img.addClass('ui-button-icon-primary ui-icon');\n",
       "        icon_img.addClass(image);\n",
       "        icon_img.addClass('ui-corner-all');\n",
       "\n",
       "        var tooltip_span = $('<span/>');\n",
       "        tooltip_span.addClass('ui-button-text');\n",
       "        tooltip_span.html(tooltip);\n",
       "\n",
       "        button.append(icon_img);\n",
       "        button.append(tooltip_span);\n",
       "\n",
       "        nav_element.append(button);\n",
       "    }\n",
       "\n",
       "    var fmt_picker_span = $('<span/>');\n",
       "\n",
       "    var fmt_picker = $('<select/>');\n",
       "    fmt_picker.addClass('mpl-toolbar-option ui-widget ui-widget-content');\n",
       "    fmt_picker_span.append(fmt_picker);\n",
       "    nav_element.append(fmt_picker_span);\n",
       "    this.format_dropdown = fmt_picker[0];\n",
       "\n",
       "    for (var ind in mpl.extensions) {\n",
       "        var fmt = mpl.extensions[ind];\n",
       "        var option = $(\n",
       "            '<option/>', {selected: fmt === mpl.default_extension}).html(fmt);\n",
       "        fmt_picker.append(option)\n",
       "    }\n",
       "\n",
       "    // Add hover states to the ui-buttons\n",
       "    $( \".ui-button\" ).hover(\n",
       "        function() { $(this).addClass(\"ui-state-hover\");},\n",
       "        function() { $(this).removeClass(\"ui-state-hover\");}\n",
       "    );\n",
       "\n",
       "    var status_bar = $('<span class=\"mpl-message\"/>');\n",
       "    nav_element.append(status_bar);\n",
       "    this.message = status_bar[0];\n",
       "}\n",
       "\n",
       "mpl.figure.prototype.request_resize = function(x_pixels, y_pixels) {\n",
       "    // Request matplotlib to resize the figure. Matplotlib will then trigger a resize in the client,\n",
       "    // which will in turn request a refresh of the image.\n",
       "    this.send_message('resize', {'width': x_pixels, 'height': y_pixels});\n",
       "}\n",
       "\n",
       "mpl.figure.prototype.send_message = function(type, properties) {\n",
       "    properties['type'] = type;\n",
       "    properties['figure_id'] = this.id;\n",
       "    this.ws.send(JSON.stringify(properties));\n",
       "}\n",
       "\n",
       "mpl.figure.prototype.send_draw_message = function() {\n",
       "    if (!this.waiting) {\n",
       "        this.waiting = true;\n",
       "        this.ws.send(JSON.stringify({type: \"draw\", figure_id: this.id}));\n",
       "    }\n",
       "}\n",
       "\n",
       "\n",
       "mpl.figure.prototype.handle_save = function(fig, msg) {\n",
       "    var format_dropdown = fig.format_dropdown;\n",
       "    var format = format_dropdown.options[format_dropdown.selectedIndex].value;\n",
       "    fig.ondownload(fig, format);\n",
       "}\n",
       "\n",
       "\n",
       "mpl.figure.prototype.handle_resize = function(fig, msg) {\n",
       "    var size = msg['size'];\n",
       "    if (size[0] != fig.canvas.width || size[1] != fig.canvas.height) {\n",
       "        fig._resize_canvas(size[0], size[1]);\n",
       "        fig.send_message(\"refresh\", {});\n",
       "    };\n",
       "}\n",
       "\n",
       "mpl.figure.prototype.handle_rubberband = function(fig, msg) {\n",
       "    var x0 = msg['x0'] / mpl.ratio;\n",
       "    var y0 = (fig.canvas.height - msg['y0']) / mpl.ratio;\n",
       "    var x1 = msg['x1'] / mpl.ratio;\n",
       "    var y1 = (fig.canvas.height - msg['y1']) / mpl.ratio;\n",
       "    x0 = Math.floor(x0) + 0.5;\n",
       "    y0 = Math.floor(y0) + 0.5;\n",
       "    x1 = Math.floor(x1) + 0.5;\n",
       "    y1 = Math.floor(y1) + 0.5;\n",
       "    var min_x = Math.min(x0, x1);\n",
       "    var min_y = Math.min(y0, y1);\n",
       "    var width = Math.abs(x1 - x0);\n",
       "    var height = Math.abs(y1 - y0);\n",
       "\n",
       "    fig.rubberband_context.clearRect(\n",
       "        0, 0, fig.canvas.width, fig.canvas.height);\n",
       "\n",
       "    fig.rubberband_context.strokeRect(min_x, min_y, width, height);\n",
       "}\n",
       "\n",
       "mpl.figure.prototype.handle_figure_label = function(fig, msg) {\n",
       "    // Updates the figure title.\n",
       "    fig.header.textContent = msg['label'];\n",
       "}\n",
       "\n",
       "mpl.figure.prototype.handle_cursor = function(fig, msg) {\n",
       "    var cursor = msg['cursor'];\n",
       "    switch(cursor)\n",
       "    {\n",
       "    case 0:\n",
       "        cursor = 'pointer';\n",
       "        break;\n",
       "    case 1:\n",
       "        cursor = 'default';\n",
       "        break;\n",
       "    case 2:\n",
       "        cursor = 'crosshair';\n",
       "        break;\n",
       "    case 3:\n",
       "        cursor = 'move';\n",
       "        break;\n",
       "    }\n",
       "    fig.rubberband_canvas.style.cursor = cursor;\n",
       "}\n",
       "\n",
       "mpl.figure.prototype.handle_message = function(fig, msg) {\n",
       "    fig.message.textContent = msg['message'];\n",
       "}\n",
       "\n",
       "mpl.figure.prototype.handle_draw = function(fig, msg) {\n",
       "    // Request the server to send over a new figure.\n",
       "    fig.send_draw_message();\n",
       "}\n",
       "\n",
       "mpl.figure.prototype.handle_image_mode = function(fig, msg) {\n",
       "    fig.image_mode = msg['mode'];\n",
       "}\n",
       "\n",
       "mpl.figure.prototype.updated_canvas_event = function() {\n",
       "    // Called whenever the canvas gets updated.\n",
       "    this.send_message(\"ack\", {});\n",
       "}\n",
       "\n",
       "// A function to construct a web socket function for onmessage handling.\n",
       "// Called in the figure constructor.\n",
       "mpl.figure.prototype._make_on_message_function = function(fig) {\n",
       "    return function socket_on_message(evt) {\n",
       "        if (evt.data instanceof Blob) {\n",
       "            /* FIXME: We get \"Resource interpreted as Image but\n",
       "             * transferred with MIME type text/plain:\" errors on\n",
       "             * Chrome.  But how to set the MIME type?  It doesn't seem\n",
       "             * to be part of the websocket stream */\n",
       "            evt.data.type = \"image/png\";\n",
       "\n",
       "            /* Free the memory for the previous frames */\n",
       "            if (fig.imageObj.src) {\n",
       "                (window.URL || window.webkitURL).revokeObjectURL(\n",
       "                    fig.imageObj.src);\n",
       "            }\n",
       "\n",
       "            fig.imageObj.src = (window.URL || window.webkitURL).createObjectURL(\n",
       "                evt.data);\n",
       "            fig.updated_canvas_event();\n",
       "            fig.waiting = false;\n",
       "            return;\n",
       "        }\n",
       "        else if (typeof evt.data === 'string' && evt.data.slice(0, 21) == \"data:image/png;base64\") {\n",
       "            fig.imageObj.src = evt.data;\n",
       "            fig.updated_canvas_event();\n",
       "            fig.waiting = false;\n",
       "            return;\n",
       "        }\n",
       "\n",
       "        var msg = JSON.parse(evt.data);\n",
       "        var msg_type = msg['type'];\n",
       "\n",
       "        // Call the  \"handle_{type}\" callback, which takes\n",
       "        // the figure and JSON message as its only arguments.\n",
       "        try {\n",
       "            var callback = fig[\"handle_\" + msg_type];\n",
       "        } catch (e) {\n",
       "            console.log(\"No handler for the '\" + msg_type + \"' message type: \", msg);\n",
       "            return;\n",
       "        }\n",
       "\n",
       "        if (callback) {\n",
       "            try {\n",
       "                // console.log(\"Handling '\" + msg_type + \"' message: \", msg);\n",
       "                callback(fig, msg);\n",
       "            } catch (e) {\n",
       "                console.log(\"Exception inside the 'handler_\" + msg_type + \"' callback:\", e, e.stack, msg);\n",
       "            }\n",
       "        }\n",
       "    };\n",
       "}\n",
       "\n",
       "// from http://stackoverflow.com/questions/1114465/getting-mouse-location-in-canvas\n",
       "mpl.findpos = function(e) {\n",
       "    //this section is from http://www.quirksmode.org/js/events_properties.html\n",
       "    var targ;\n",
       "    if (!e)\n",
       "        e = window.event;\n",
       "    if (e.target)\n",
       "        targ = e.target;\n",
       "    else if (e.srcElement)\n",
       "        targ = e.srcElement;\n",
       "    if (targ.nodeType == 3) // defeat Safari bug\n",
       "        targ = targ.parentNode;\n",
       "\n",
       "    // jQuery normalizes the pageX and pageY\n",
       "    // pageX,Y are the mouse positions relative to the document\n",
       "    // offset() returns the position of the element relative to the document\n",
       "    var x = e.pageX - $(targ).offset().left;\n",
       "    var y = e.pageY - $(targ).offset().top;\n",
       "\n",
       "    return {\"x\": x, \"y\": y};\n",
       "};\n",
       "\n",
       "/*\n",
       " * return a copy of an object with only non-object keys\n",
       " * we need this to avoid circular references\n",
       " * http://stackoverflow.com/a/24161582/3208463\n",
       " */\n",
       "function simpleKeys (original) {\n",
       "  return Object.keys(original).reduce(function (obj, key) {\n",
       "    if (typeof original[key] !== 'object')\n",
       "        obj[key] = original[key]\n",
       "    return obj;\n",
       "  }, {});\n",
       "}\n",
       "\n",
       "mpl.figure.prototype.mouse_event = function(event, name) {\n",
       "    var canvas_pos = mpl.findpos(event)\n",
       "\n",
       "    if (name === 'button_press')\n",
       "    {\n",
       "        this.canvas.focus();\n",
       "        this.canvas_div.focus();\n",
       "    }\n",
       "\n",
       "    var x = canvas_pos.x * mpl.ratio;\n",
       "    var y = canvas_pos.y * mpl.ratio;\n",
       "\n",
       "    this.send_message(name, {x: x, y: y, button: event.button,\n",
       "                             step: event.step,\n",
       "                             guiEvent: simpleKeys(event)});\n",
       "\n",
       "    /* This prevents the web browser from automatically changing to\n",
       "     * the text insertion cursor when the button is pressed.  We want\n",
       "     * to control all of the cursor setting manually through the\n",
       "     * 'cursor' event from matplotlib */\n",
       "    event.preventDefault();\n",
       "    return false;\n",
       "}\n",
       "\n",
       "mpl.figure.prototype._key_event_extra = function(event, name) {\n",
       "    // Handle any extra behaviour associated with a key event\n",
       "}\n",
       "\n",
       "mpl.figure.prototype.key_event = function(event, name) {\n",
       "\n",
       "    // Prevent repeat events\n",
       "    if (name == 'key_press')\n",
       "    {\n",
       "        if (event.which === this._key)\n",
       "            return;\n",
       "        else\n",
       "            this._key = event.which;\n",
       "    }\n",
       "    if (name == 'key_release')\n",
       "        this._key = null;\n",
       "\n",
       "    var value = '';\n",
       "    if (event.ctrlKey && event.which != 17)\n",
       "        value += \"ctrl+\";\n",
       "    if (event.altKey && event.which != 18)\n",
       "        value += \"alt+\";\n",
       "    if (event.shiftKey && event.which != 16)\n",
       "        value += \"shift+\";\n",
       "\n",
       "    value += 'k';\n",
       "    value += event.which.toString();\n",
       "\n",
       "    this._key_event_extra(event, name);\n",
       "\n",
       "    this.send_message(name, {key: value,\n",
       "                             guiEvent: simpleKeys(event)});\n",
       "    return false;\n",
       "}\n",
       "\n",
       "mpl.figure.prototype.toolbar_button_onclick = function(name) {\n",
       "    if (name == 'download') {\n",
       "        this.handle_save(this, null);\n",
       "    } else {\n",
       "        this.send_message(\"toolbar_button\", {name: name});\n",
       "    }\n",
       "};\n",
       "\n",
       "mpl.figure.prototype.toolbar_button_onmouseover = function(tooltip) {\n",
       "    this.message.textContent = tooltip;\n",
       "};\n",
       "mpl.toolbar_items = [[\"Home\", \"Reset original view\", \"fa fa-home icon-home\", \"home\"], [\"Back\", \"Back to  previous view\", \"fa fa-arrow-left icon-arrow-left\", \"back\"], [\"Forward\", \"Forward to next view\", \"fa fa-arrow-right icon-arrow-right\", \"forward\"], [\"\", \"\", \"\", \"\"], [\"Pan\", \"Pan axes with left mouse, zoom with right\", \"fa fa-arrows icon-move\", \"pan\"], [\"Zoom\", \"Zoom to rectangle\", \"fa fa-square-o icon-check-empty\", \"zoom\"], [\"\", \"\", \"\", \"\"], [\"Download\", \"Download plot\", \"fa fa-floppy-o icon-save\", \"download\"]];\n",
       "\n",
       "mpl.extensions = [\"eps\", \"jpeg\", \"pdf\", \"png\", \"ps\", \"raw\", \"svg\", \"tif\"];\n",
       "\n",
       "mpl.default_extension = \"png\";var comm_websocket_adapter = function(comm) {\n",
       "    // Create a \"websocket\"-like object which calls the given IPython comm\n",
       "    // object with the appropriate methods. Currently this is a non binary\n",
       "    // socket, so there is still some room for performance tuning.\n",
       "    var ws = {};\n",
       "\n",
       "    ws.close = function() {\n",
       "        comm.close()\n",
       "    };\n",
       "    ws.send = function(m) {\n",
       "        //console.log('sending', m);\n",
       "        comm.send(m);\n",
       "    };\n",
       "    // Register the callback with on_msg.\n",
       "    comm.on_msg(function(msg) {\n",
       "        //console.log('receiving', msg['content']['data'], msg);\n",
       "        // Pass the mpl event to the overriden (by mpl) onmessage function.\n",
       "        ws.onmessage(msg['content']['data'])\n",
       "    });\n",
       "    return ws;\n",
       "}\n",
       "\n",
       "mpl.mpl_figure_comm = function(comm, msg) {\n",
       "    // This is the function which gets called when the mpl process\n",
       "    // starts-up an IPython Comm through the \"matplotlib\" channel.\n",
       "\n",
       "    var id = msg.content.data.id;\n",
       "    // Get hold of the div created by the display call when the Comm\n",
       "    // socket was opened in Python.\n",
       "    var element = $(\"#\" + id);\n",
       "    var ws_proxy = comm_websocket_adapter(comm)\n",
       "\n",
       "    function ondownload(figure, format) {\n",
       "        window.open(figure.imageObj.src);\n",
       "    }\n",
       "\n",
       "    var fig = new mpl.figure(id, ws_proxy,\n",
       "                           ondownload,\n",
       "                           element.get(0));\n",
       "\n",
       "    // Call onopen now - mpl needs it, as it is assuming we've passed it a real\n",
       "    // web socket which is closed, not our websocket->open comm proxy.\n",
       "    ws_proxy.onopen();\n",
       "\n",
       "    fig.parent_element = element.get(0);\n",
       "    fig.cell_info = mpl.find_output_cell(\"<div id='\" + id + \"'></div>\");\n",
       "    if (!fig.cell_info) {\n",
       "        console.error(\"Failed to find cell for figure\", id, fig);\n",
       "        return;\n",
       "    }\n",
       "\n",
       "    var output_index = fig.cell_info[2]\n",
       "    var cell = fig.cell_info[0];\n",
       "\n",
       "};\n",
       "\n",
       "mpl.figure.prototype.handle_close = function(fig, msg) {\n",
       "    var width = fig.canvas.width/mpl.ratio\n",
       "    fig.root.unbind('remove')\n",
       "\n",
       "    // Update the output cell to use the data from the current canvas.\n",
       "    fig.push_to_output();\n",
       "    var dataURL = fig.canvas.toDataURL();\n",
       "    // Re-enable the keyboard manager in IPython - without this line, in FF,\n",
       "    // the notebook keyboard shortcuts fail.\n",
       "    IPython.keyboard_manager.enable()\n",
       "    $(fig.parent_element).html('<img src=\"' + dataURL + '\" width=\"' + width + '\">');\n",
       "    fig.close_ws(fig, msg);\n",
       "}\n",
       "\n",
       "mpl.figure.prototype.close_ws = function(fig, msg){\n",
       "    fig.send_message('closing', msg);\n",
       "    // fig.ws.close()\n",
       "}\n",
       "\n",
       "mpl.figure.prototype.push_to_output = function(remove_interactive) {\n",
       "    // Turn the data on the canvas into data in the output cell.\n",
       "    var width = this.canvas.width/mpl.ratio\n",
       "    var dataURL = this.canvas.toDataURL();\n",
       "    this.cell_info[1]['text/html'] = '<img src=\"' + dataURL + '\" width=\"' + width + '\">';\n",
       "}\n",
       "\n",
       "mpl.figure.prototype.updated_canvas_event = function() {\n",
       "    // Tell IPython that the notebook contents must change.\n",
       "    IPython.notebook.set_dirty(true);\n",
       "    this.send_message(\"ack\", {});\n",
       "    var fig = this;\n",
       "    // Wait a second, then push the new image to the DOM so\n",
       "    // that it is saved nicely (might be nice to debounce this).\n",
       "    setTimeout(function () { fig.push_to_output() }, 1000);\n",
       "}\n",
       "\n",
       "mpl.figure.prototype._init_toolbar = function() {\n",
       "    var fig = this;\n",
       "\n",
       "    var nav_element = $('<div/>')\n",
       "    nav_element.attr('style', 'width: 100%');\n",
       "    this.root.append(nav_element);\n",
       "\n",
       "    // Define a callback function for later on.\n",
       "    function toolbar_event(event) {\n",
       "        return fig.toolbar_button_onclick(event['data']);\n",
       "    }\n",
       "    function toolbar_mouse_event(event) {\n",
       "        return fig.toolbar_button_onmouseover(event['data']);\n",
       "    }\n",
       "\n",
       "    for(var toolbar_ind in mpl.toolbar_items){\n",
       "        var name = mpl.toolbar_items[toolbar_ind][0];\n",
       "        var tooltip = mpl.toolbar_items[toolbar_ind][1];\n",
       "        var image = mpl.toolbar_items[toolbar_ind][2];\n",
       "        var method_name = mpl.toolbar_items[toolbar_ind][3];\n",
       "\n",
       "        if (!name) { continue; };\n",
       "\n",
       "        var button = $('<button class=\"btn btn-default\" href=\"#\" title=\"' + name + '\"><i class=\"fa ' + image + ' fa-lg\"></i></button>');\n",
       "        button.click(method_name, toolbar_event);\n",
       "        button.mouseover(tooltip, toolbar_mouse_event);\n",
       "        nav_element.append(button);\n",
       "    }\n",
       "\n",
       "    // Add the status bar.\n",
       "    var status_bar = $('<span class=\"mpl-message\" style=\"text-align:right; float: right;\"/>');\n",
       "    nav_element.append(status_bar);\n",
       "    this.message = status_bar[0];\n",
       "\n",
       "    // Add the close button to the window.\n",
       "    var buttongrp = $('<div class=\"btn-group inline pull-right\"></div>');\n",
       "    var button = $('<button class=\"btn btn-mini btn-primary\" href=\"#\" title=\"Stop Interaction\"><i class=\"fa fa-power-off icon-remove icon-large\"></i></button>');\n",
       "    button.click(function (evt) { fig.handle_close(fig, {}); } );\n",
       "    button.mouseover('Stop Interaction', toolbar_mouse_event);\n",
       "    buttongrp.append(button);\n",
       "    var titlebar = this.root.find($('.ui-dialog-titlebar'));\n",
       "    titlebar.prepend(buttongrp);\n",
       "}\n",
       "\n",
       "mpl.figure.prototype._root_extra_style = function(el){\n",
       "    var fig = this\n",
       "    el.on(\"remove\", function(){\n",
       "\tfig.close_ws(fig, {});\n",
       "    });\n",
       "}\n",
       "\n",
       "mpl.figure.prototype._canvas_extra_style = function(el){\n",
       "    // this is important to make the div 'focusable\n",
       "    el.attr('tabindex', 0)\n",
       "    // reach out to IPython and tell the keyboard manager to turn it's self\n",
       "    // off when our div gets focus\n",
       "\n",
       "    // location in version 3\n",
       "    if (IPython.notebook.keyboard_manager) {\n",
       "        IPython.notebook.keyboard_manager.register_events(el);\n",
       "    }\n",
       "    else {\n",
       "        // location in version 2\n",
       "        IPython.keyboard_manager.register_events(el);\n",
       "    }\n",
       "\n",
       "}\n",
       "\n",
       "mpl.figure.prototype._key_event_extra = function(event, name) {\n",
       "    var manager = IPython.notebook.keyboard_manager;\n",
       "    if (!manager)\n",
       "        manager = IPython.keyboard_manager;\n",
       "\n",
       "    // Check for shift+enter\n",
       "    if (event.shiftKey && event.which == 13) {\n",
       "        this.canvas_div.blur();\n",
       "        event.shiftKey = false;\n",
       "        // Send a \"J\" for go to next cell\n",
       "        event.which = 74;\n",
       "        event.keyCode = 74;\n",
       "        manager.command_mode();\n",
       "        manager.handle_keydown(event);\n",
       "    }\n",
       "}\n",
       "\n",
       "mpl.figure.prototype.handle_save = function(fig, msg) {\n",
       "    fig.ondownload(fig, null);\n",
       "}\n",
       "\n",
       "\n",
       "mpl.find_output_cell = function(html_output) {\n",
       "    // Return the cell and output element which can be found *uniquely* in the notebook.\n",
       "    // Note - this is a bit hacky, but it is done because the \"notebook_saving.Notebook\"\n",
       "    // IPython event is triggered only after the cells have been serialised, which for\n",
       "    // our purposes (turning an active figure into a static one), is too late.\n",
       "    var cells = IPython.notebook.get_cells();\n",
       "    var ncells = cells.length;\n",
       "    for (var i=0; i<ncells; i++) {\n",
       "        var cell = cells[i];\n",
       "        if (cell.cell_type === 'code'){\n",
       "            for (var j=0; j<cell.output_area.outputs.length; j++) {\n",
       "                var data = cell.output_area.outputs[j];\n",
       "                if (data.data) {\n",
       "                    // IPython >= 3 moved mimebundle to data attribute of output\n",
       "                    data = data.data;\n",
       "                }\n",
       "                if (data['text/html'] == html_output) {\n",
       "                    return [cell, data, j];\n",
       "                }\n",
       "            }\n",
       "        }\n",
       "    }\n",
       "}\n",
       "\n",
       "// Register the function which deals with the matplotlib target/channel.\n",
       "// The kernel may be null if the page has been refreshed.\n",
       "if (IPython.notebook.kernel != null) {\n",
       "    IPython.notebook.kernel.comm_manager.register_target('matplotlib', mpl.mpl_figure_comm);\n",
       "}\n"
      ],
      "text/plain": [
       "<IPython.core.display.Javascript object>"
      ]
     },
     "metadata": {},
     "output_type": "display_data"
    },
    {
     "data": {
      "text/html": [
       "<img src=\"data:image/png;base64,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\" width=\"1296\">"
      ],
      "text/plain": [
       "<IPython.core.display.HTML object>"
      ]
     },
     "metadata": {},
     "output_type": "display_data"
    },
    {
     "data": {
      "application/vnd.jupyter.widget-view+json": {
       "model_id": "b74660068ef14f01bf28cabcfb3f951b",
       "version_major": 2,
       "version_minor": 0
      },
      "text/plain": [
       "HBox(children=(IntProgress(value=0, max=200), HTML(value='')))"
      ]
     },
     "metadata": {},
     "output_type": "display_data"
    },
    {
     "data": {
      "application/vnd.jupyter.widget-view+json": {
       "model_id": "cadf2a7eddb1491fa82531757852e52f",
       "version_major": 2,
       "version_minor": 0
      },
      "text/plain": [
       "HBox(children=(IntProgress(value=0, max=469), HTML(value='')))"
      ]
     },
     "metadata": {},
     "output_type": "display_data"
    },
    {
     "name": "stdout",
     "output_type": "stream",
     "text": [
      "loss:1.8583, logdet:1.7222 pz:-1.4008 latentstd:0.8418 latentstdmax:2.0046 latentstdmin:0.3330\n",
      "loss:1.1155, logdet:2.2241 pz:-1.3879 latentstd:0.9257 latentstdmax:1.5443 latentstdmin:0.6538\n",
      "loss:1.0208, logdet:2.3238 pz:-1.4219 latentstd:0.9753 latentstdmax:1.5654 latentstdmin:0.6762\n",
      "loss:0.9911, logdet:2.3348 pz:-1.4123 latentstd:0.9682 latentstdmax:1.5886 latentstdmin:0.7330\n",
      "loss:0.9888, logdet:2.3395 pz:-1.4154 latentstd:0.9659 latentmean:-0.0052 recon_loss:0.0033\n"
     ]
    },
    {
     "data": {
      "application/vnd.jupyter.widget-view+json": {
       "model_id": "e6941a5a6c6148ea8ec91b7a988e16a5",
       "version_major": 2,
       "version_minor": 0
      },
      "text/plain": [
       "HBox(children=(IntProgress(value=0, max=469), HTML(value='')))"
      ]
     },
     "metadata": {},
     "output_type": "display_data"
    },
    {
     "name": "stdout",
     "output_type": "stream",
     "text": [
      "loss:0.9799, logdet:2.3506 pz:-1.4204 latentstd:0.9801 latentstdmax:1.6136 latentstdmin:0.6992\n",
      "loss:0.9597, logdet:2.3684 pz:-1.4242 latentstd:0.9833 latentstdmax:1.5871 latentstdmin:0.7391\n",
      "loss:0.9394, logdet:2.3729 pz:-1.4146 latentstd:0.9761 latentstdmax:1.5230 latentstdmin:0.7456\n",
      "loss:0.9051, logdet:2.3986 pz:-1.4166 latentstd:0.9792 latentstdmax:1.5260 latentstdmin:0.7450\n",
      "loss:0.9021, logdet:2.4014 pz:-1.4173 latentstd:0.9831 latentmean:-0.0023 recon_loss:0.0034\n"
     ]
    },
    {
     "data": {
      "application/vnd.jupyter.widget-view+json": {
       "model_id": "24991f5dc9c0446a91948a4b80f4693e",
       "version_major": 2,
       "version_minor": 0
      },
      "text/plain": [
       "HBox(children=(IntProgress(value=0, max=469), HTML(value='')))"
      ]
     },
     "metadata": {},
     "output_type": "display_data"
    },
    {
     "name": "stdout",
     "output_type": "stream",
     "text": [
      "loss:0.8872, logdet:2.4136 pz:-1.4191 latentstd:0.9849 latentstdmax:1.4788 latentstdmin:0.7634\n",
      "loss:0.8913, logdet:2.4110 pz:-1.4194 latentstd:0.9830 latentstdmax:1.4799 latentstdmin:0.7404\n",
      "loss:0.9135, logdet:2.3984 pz:-1.4221 latentstd:0.9863 latentstdmax:1.5355 latentstdmin:0.7593\n",
      "loss:0.8851, logdet:2.4197 pz:-1.4238 latentstd:0.9866 latentstdmax:1.5326 latentstdmin:0.7589\n",
      "loss:0.9049, logdet:2.4006 pz:-1.4184 latentstd:0.9804 latentmean:0.0005 recon_loss:0.0034\n"
     ]
    },
    {
     "data": {
      "application/vnd.jupyter.widget-view+json": {
       "model_id": "4d6e45214dfc453ea929eb4ef09d55fc",
       "version_major": 2,
       "version_minor": 0
      },
      "text/plain": [
       "HBox(children=(IntProgress(value=0, max=469), HTML(value='')))"
      ]
     },
     "metadata": {},
     "output_type": "display_data"
    },
    {
     "name": "stdout",
     "output_type": "stream",
     "text": [
      "loss:0.8941, logdet:2.4114 pz:-1.4217 latentstd:0.9865 latentstdmax:1.4946 latentstdmin:0.7444\n",
      "loss:0.8674, logdet:2.4274 pz:-1.4192 latentstd:0.9848 latentstdmax:1.5292 latentstdmin:0.7640\n",
      "loss:0.8722, logdet:2.4224 pz:-1.4175 latentstd:0.9841 latentstdmax:1.4702 latentstdmin:0.7170\n",
      "loss:0.8772, logdet:2.4216 pz:-1.4202 latentstd:0.9872 latentstdmax:1.4419 latentstdmin:0.7693\n",
      "loss:0.8783, logdet:2.4183 pz:-1.4176 latentstd:0.9863 latentmean:0.0039 recon_loss:0.0033\n"
     ]
    },
    {
     "data": {
      "application/vnd.jupyter.widget-view+json": {
       "model_id": "15edf1fb6035455d8d9c56d9b9aca551",
       "version_major": 2,
       "version_minor": 0
      },
      "text/plain": [
       "HBox(children=(IntProgress(value=0, max=469), HTML(value='')))"
      ]
     },
     "metadata": {},
     "output_type": "display_data"
    },
    {
     "name": "stdout",
     "output_type": "stream",
     "text": [
      "loss:0.8767, logdet:2.4315 pz:-1.4297 latentstd:0.9972 latentstdmax:1.4465 latentstdmin:0.7688\n",
      "loss:0.8712, logdet:2.4300 pz:-1.4244 latentstd:0.9933 latentstdmax:1.4380 latentstdmin:0.8023\n",
      "loss:0.8282, logdet:2.4528 pz:-1.4174 latentstd:0.9878 latentstdmax:1.4143 latentstdmin:0.7689\n",
      "loss:0.8356, logdet:2.4479 pz:-1.4176 latentstd:0.9883 latentstdmax:1.3943 latentstdmin:0.7967\n",
      "loss:0.8455, logdet:2.4447 pz:-1.4213 latentstd:0.9857 latentmean:0.0041 recon_loss:0.0033\n"
     ]
    },
    {
     "data": {
      "application/vnd.jupyter.widget-view+json": {
       "model_id": "476124fb62c94e3db438f368139dd9e7",
       "version_major": 2,
       "version_minor": 0
      },
      "text/plain": [
       "HBox(children=(IntProgress(value=0, max=469), HTML(value='')))"
      ]
     },
     "metadata": {},
     "output_type": "display_data"
    },
    {
     "name": "stdout",
     "output_type": "stream",
     "text": [
      "loss:0.8311, logdet:2.4519 pz:-1.4186 latentstd:0.9899 latentstdmax:1.4161 latentstdmin:0.7873\n",
      "loss:0.8218, logdet:2.4593 pz:-1.4195 latentstd:0.9911 latentstdmax:1.3761 latentstdmin:0.8122\n",
      "loss:0.8166, logdet:2.4590 pz:-1.4156 latentstd:0.9875 latentstdmax:1.3536 latentstdmin:0.7969\n",
      "loss:0.8301, logdet:2.4572 pz:-1.4231 latentstd:0.9953 latentstdmax:1.3801 latentstdmin:0.7695\n",
      "loss:0.8234, logdet:2.4525 pz:-1.4137 latentstd:0.9843 latentmean:0.0101 recon_loss:0.0032\n"
     ]
    },
    {
     "data": {
      "application/vnd.jupyter.widget-view+json": {
       "model_id": "766a935a38044a8b913990d92fd792a5",
       "version_major": 2,
       "version_minor": 0
      },
      "text/plain": [
       "HBox(children=(IntProgress(value=0, max=469), HTML(value='')))"
      ]
     },
     "metadata": {},
     "output_type": "display_data"
    },
    {
     "name": "stdout",
     "output_type": "stream",
     "text": [
      "loss:0.8275, logdet:2.4614 pz:-1.4255 latentstd:0.9976 latentstdmax:1.3595 latentstdmin:0.7955\n",
      "loss:0.8170, logdet:2.4612 pz:-1.4181 latentstd:0.9910 latentstdmax:1.3670 latentstdmin:0.8258\n",
      "loss:0.8179, logdet:2.4657 pz:-1.4232 latentstd:0.9963 latentstdmax:1.3745 latentstdmin:0.7760\n",
      "loss:0.8091, logdet:2.4631 pz:-1.4145 latentstd:0.9878 latentstdmax:1.3670 latentstdmin:0.8027\n",
      "loss:0.8171, logdet:2.4598 pz:-1.4168 latentstd:0.9873 latentmean:0.0057 recon_loss:0.0034\n"
     ]
    },
    {
     "data": {
      "application/vnd.jupyter.widget-view+json": {
       "model_id": "e380b593430243368c24c02d0e76fc3b",
       "version_major": 2,
       "version_minor": 0
      },
      "text/plain": [
       "HBox(children=(IntProgress(value=0, max=469), HTML(value='')))"
      ]
     },
     "metadata": {},
     "output_type": "display_data"
    },
    {
     "name": "stdout",
     "output_type": "stream",
     "text": [
      "loss:0.8296, logdet:2.4574 pz:-1.4229 latentstd:0.9955 latentstdmax:1.4066 latentstdmin:0.7949\n",
      "loss:0.7954, logdet:2.4739 pz:-1.4158 latentstd:0.9893 latentstdmax:1.4032 latentstdmin:0.8085\n",
      "loss:0.7983, logdet:2.4669 pz:-1.4108 latentstd:0.9839 latentstdmax:1.3919 latentstdmin:0.7994\n",
      "loss:0.8189, logdet:2.4593 pz:-1.4174 latentstd:0.9909 latentstdmax:1.4410 latentstdmin:0.7728\n",
      "loss:0.8129, logdet:2.4703 pz:-1.4244 latentstd:0.9897 latentmean:0.0082 recon_loss:0.0034\n"
     ]
    },
    {
     "data": {
      "application/vnd.jupyter.widget-view+json": {
       "model_id": "c1a14e7385a142f99d490a3919bd1b3a",
       "version_major": 2,
       "version_minor": 0
      },
      "text/plain": [
       "HBox(children=(IntProgress(value=0, max=469), HTML(value='')))"
      ]
     },
     "metadata": {},
     "output_type": "display_data"
    },
    {
     "name": "stdout",
     "output_type": "stream",
     "text": [
      "loss:0.7967, logdet:2.4761 pz:-1.4190 latentstd:0.9920 latentstdmax:1.4237 latentstdmin:0.8309\n",
      "loss:0.8045, logdet:2.4731 pz:-1.4213 latentstd:0.9948 latentstdmax:1.3619 latentstdmin:0.8254\n",
      "loss:0.7896, logdet:2.4818 pz:-1.4197 latentstd:0.9933 latentstdmax:1.3831 latentstdmin:0.8014\n",
      "loss:0.7925, logdet:2.4827 pz:-1.4226 latentstd:0.9969 latentstdmax:1.3653 latentstdmin:0.7890\n",
      "loss:0.7990, logdet:2.4821 pz:-1.4265 latentstd:0.9984 latentmean:0.0022 recon_loss:0.0032\n"
     ]
    },
    {
     "data": {
      "application/vnd.jupyter.widget-view+json": {
       "model_id": "0245d7ce5e534dd8b224bf85c238dcad",
       "version_major": 2,
       "version_minor": 0
      },
      "text/plain": [
       "HBox(children=(IntProgress(value=0, max=469), HTML(value='')))"
      ]
     },
     "metadata": {},
     "output_type": "display_data"
    },
    {
     "name": "stdout",
     "output_type": "stream",
     "text": [
      "loss:0.8100, logdet:2.4685 pz:-1.4205 latentstd:0.9947 latentstdmax:1.3617 latentstdmin:0.7994\n",
      "loss:0.7973, logdet:2.4737 pz:-1.4169 latentstd:0.9911 latentstdmax:1.3882 latentstdmin:0.8164\n",
      "loss:0.7881, logdet:2.4830 pz:-1.4199 latentstd:0.9942 latentstdmax:1.4204 latentstdmin:0.8354\n",
      "loss:0.7873, logdet:2.4829 pz:-1.4192 latentstd:0.9931 latentstdmax:1.3788 latentstdmin:0.8276\n",
      "loss:0.7966, logdet:2.4824 pz:-1.4251 latentstd:0.9885 latentmean:0.0115 recon_loss:0.0034\n"
     ]
    },
    {
     "data": {
      "application/vnd.jupyter.widget-view+json": {
       "model_id": "cbd0f6e1d28e47ea8fdfa8ef67bcd7bf",
       "version_major": 2,
       "version_minor": 0
      },
      "text/plain": [
       "HBox(children=(IntProgress(value=0, max=469), HTML(value='')))"
      ]
     },
     "metadata": {},
     "output_type": "display_data"
    },
    {
     "name": "stdout",
     "output_type": "stream",
     "text": [
      "loss:0.8112, logdet:2.4768 pz:-1.4297 latentstd:1.0040 latentstdmax:1.3373 latentstdmin:0.7950\n",
      "loss:0.7679, logdet:2.4941 pz:-1.4169 latentstd:0.9913 latentstdmax:1.3029 latentstdmin:0.8122\n",
      "loss:0.8150, logdet:2.4725 pz:-1.4279 latentstd:1.0015 latentstdmax:1.3597 latentstdmin:0.8039\n",
      "loss:0.8104, logdet:2.4665 pz:-1.4188 latentstd:0.9933 latentstdmax:1.3241 latentstdmin:0.8278\n",
      "loss:0.7885, logdet:2.4826 pz:-1.4197 latentstd:0.9940 latentmean:0.0109 recon_loss:0.0033\n"
     ]
    },
    {
     "data": {
      "application/vnd.jupyter.widget-view+json": {
       "model_id": "d87fa3bef9244d62b5951197d7a13628",
       "version_major": 2,
       "version_minor": 0
      },
      "text/plain": [
       "HBox(children=(IntProgress(value=0, max=469), HTML(value='')))"
      ]
     },
     "metadata": {},
     "output_type": "display_data"
    },
    {
     "name": "stdout",
     "output_type": "stream",
     "text": [
      "loss:0.8091, logdet:2.4711 pz:-1.4225 latentstd:0.9964 latentstdmax:1.3244 latentstdmin:0.8257\n",
      "loss:0.7845, logdet:2.4806 pz:-1.4149 latentstd:0.9896 latentstdmax:1.3173 latentstdmin:0.7714\n",
      "loss:0.7789, logdet:2.4901 pz:-1.4205 latentstd:0.9951 latentstdmax:1.3801 latentstdmin:0.8320\n",
      "loss:0.7729, logdet:2.4907 pz:-1.4170 latentstd:0.9919 latentstdmax:1.2802 latentstdmin:0.8165\n",
      "loss:0.7873, logdet:2.4837 pz:-1.4199 latentstd:0.9929 latentmean:0.0108 recon_loss:0.0035\n"
     ]
    },
    {
     "data": {
      "application/vnd.jupyter.widget-view+json": {
       "model_id": "3c7ea967d92b477bb92540320d049c39",
       "version_major": 2,
       "version_minor": 0
      },
      "text/plain": [
       "HBox(children=(IntProgress(value=0, max=469), HTML(value='')))"
      ]
     },
     "metadata": {},
     "output_type": "display_data"
    },
    {
     "name": "stdout",
     "output_type": "stream",
     "text": [
      "loss:0.7938, logdet:2.4730 pz:-1.4138 latentstd:0.9885 latentstdmax:1.3356 latentstdmin:0.8090\n",
      "loss:0.7704, logdet:2.4914 pz:-1.4160 latentstd:0.9913 latentstdmax:1.2755 latentstdmin:0.8187\n",
      "loss:0.7786, logdet:2.4821 pz:-1.4123 latentstd:0.9877 latentstdmax:1.2667 latentstdmin:0.8409\n",
      "loss:0.7861, logdet:2.4893 pz:-1.4248 latentstd:0.9999 latentstdmax:1.4531 latentstdmin:0.8421\n",
      "loss:0.7968, logdet:2.4754 pz:-1.4183 latentstd:0.9918 latentmean:0.0136 recon_loss:0.0033\n"
     ]
    },
    {
     "data": {
      "application/vnd.jupyter.widget-view+json": {
       "model_id": "5be54f4a48a24e13aa6c7523862348c6",
       "version_major": 2,
       "version_minor": 0
      },
      "text/plain": [
       "HBox(children=(IntProgress(value=0, max=469), HTML(value='')))"
      ]
     },
     "metadata": {},
     "output_type": "display_data"
    },
    {
     "name": "stdout",
     "output_type": "stream",
     "text": [
      "loss:0.7833, logdet:2.4884 pz:-1.4220 latentstd:0.9969 latentstdmax:1.3305 latentstdmin:0.7913\n",
      "loss:0.7632, logdet:2.4990 pz:-1.4186 latentstd:0.9941 latentstdmax:1.3022 latentstdmin:0.8211\n",
      "loss:0.7850, logdet:2.4875 pz:-1.4222 latentstd:0.9976 latentstdmax:1.3541 latentstdmin:0.8167\n",
      "loss:0.7864, logdet:2.4817 pz:-1.4173 latentstd:0.9926 latentstdmax:1.3366 latentstdmin:0.8146\n",
      "loss:0.7752, logdet:2.4906 pz:-1.4185 latentstd:0.9866 latentmean:0.0117 recon_loss:0.0033\n"
     ]
    },
    {
     "data": {
      "application/vnd.jupyter.widget-view+json": {
       "model_id": "c0ee5769901148418b791175a0284ca9",
       "version_major": 2,
       "version_minor": 0
      },
      "text/plain": [
       "HBox(children=(IntProgress(value=0, max=469), HTML(value='')))"
      ]
     },
     "metadata": {},
     "output_type": "display_data"
    },
    {
     "name": "stdout",
     "output_type": "stream",
     "text": [
      "loss:0.7648, logdet:2.4954 pz:-1.4161 latentstd:0.9915 latentstdmax:1.3054 latentstdmin:0.8125\n",
      "loss:0.7860, logdet:2.4836 pz:-1.4190 latentstd:0.9944 latentstdmax:1.2735 latentstdmin:0.8302\n",
      "loss:0.7745, logdet:2.4906 pz:-1.4181 latentstd:0.9934 latentstdmax:1.2994 latentstdmin:0.7954\n",
      "loss:0.7690, logdet:2.4885 pz:-1.4121 latentstd:0.9875 latentstdmax:1.3087 latentstdmin:0.8263\n",
      "loss:0.7736, logdet:2.4902 pz:-1.4170 latentstd:0.9921 latentmean:0.0067 recon_loss:0.0033\n"
     ]
    },
    {
     "data": {
      "application/vnd.jupyter.widget-view+json": {
       "model_id": "550ed92fc7f7449fb4be7bdfb04a5e68",
       "version_major": 2,
       "version_minor": 0
      },
      "text/plain": [
       "HBox(children=(IntProgress(value=0, max=469), HTML(value='')))"
      ]
     },
     "metadata": {},
     "output_type": "display_data"
    },
    {
     "name": "stdout",
     "output_type": "stream",
     "text": [
      "loss:0.7667, logdet:2.4923 pz:-1.4143 latentstd:0.9902 latentstdmax:1.2401 latentstdmin:0.8127\n",
      "loss:0.7798, logdet:2.4872 pz:-1.4183 latentstd:0.9929 latentstdmax:1.3304 latentstdmin:0.7931\n",
      "loss:0.7825, logdet:2.4864 pz:-1.4193 latentstd:0.9945 latentstdmax:1.3542 latentstdmin:0.8313\n",
      "loss:0.7594, logdet:2.4985 pz:-1.4154 latentstd:0.9910 latentstdmax:1.2504 latentstdmin:0.8497\n",
      "loss:0.7645, logdet:2.4974 pz:-1.4178 latentstd:0.9932 latentmean:0.0102 recon_loss:0.0034\n"
     ]
    },
    {
     "data": {
      "application/vnd.jupyter.widget-view+json": {
       "model_id": "f913ed7cc6404934bc1a298966924a90",
       "version_major": 2,
       "version_minor": 0
      },
      "text/plain": [
       "HBox(children=(IntProgress(value=0, max=469), HTML(value='')))"
      ]
     },
     "metadata": {},
     "output_type": "display_data"
    },
    {
     "name": "stdout",
     "output_type": "stream",
     "text": [
      "loss:0.7668, logdet:2.4945 pz:-1.4166 latentstd:0.9920 latentstdmax:1.2542 latentstdmin:0.8046\n",
      "loss:0.7616, logdet:2.4927 pz:-1.4111 latentstd:0.9861 latentstdmax:1.3992 latentstdmin:0.8033\n",
      "loss:0.7604, logdet:2.4996 pz:-1.4172 latentstd:0.9928 latentstdmax:1.3031 latentstdmin:0.8288\n",
      "loss:0.7889, logdet:2.4855 pz:-1.4229 latentstd:0.9982 latentstdmax:1.2068 latentstdmin:0.8166\n",
      "loss:0.7913, logdet:2.4924 pz:-1.4315 latentstd:0.9971 latentmean:0.0048 recon_loss:0.0032\n"
     ]
    },
    {
     "data": {
      "application/vnd.jupyter.widget-view+json": {
       "model_id": "ff38273f4a514734a72effdea7e9fdf8",
       "version_major": 2,
       "version_minor": 0
      },
      "text/plain": [
       "HBox(children=(IntProgress(value=0, max=469), HTML(value='')))"
      ]
     },
     "metadata": {},
     "output_type": "display_data"
    },
    {
     "name": "stdout",
     "output_type": "stream",
     "text": [
      "loss:0.7686, logdet:2.4957 pz:-1.4190 latentstd:0.9943 latentstdmax:1.3208 latentstdmin:0.8021\n",
      "loss:0.7537, logdet:2.5027 pz:-1.4157 latentstd:0.9918 latentstdmax:1.3142 latentstdmin:0.8084\n",
      "loss:0.7634, logdet:2.4962 pz:-1.4159 latentstd:0.9918 latentstdmax:1.2590 latentstdmin:0.8270\n",
      "loss:0.7654, logdet:2.4963 pz:-1.4173 latentstd:0.9929 latentstdmax:1.2937 latentstdmin:0.8201\n",
      "loss:0.8291, logdet:2.4494 pz:-1.4146 latentstd:0.9785 latentmean:0.0029 recon_loss:0.0034\n"
     ]
    },
    {
     "data": {
      "application/vnd.jupyter.widget-view+json": {
       "model_id": "80e76fa543b844208e91f514374b38ed",
       "version_major": 2,
       "version_minor": 0
      },
      "text/plain": [
       "HBox(children=(IntProgress(value=0, max=469), HTML(value='')))"
      ]
     },
     "metadata": {},
     "output_type": "display_data"
    },
    {
     "name": "stdout",
     "output_type": "stream",
     "text": [
      "loss:0.8057, logdet:2.4644 pz:-1.4135 latentstd:0.9833 latentstdmax:1.4759 latentstdmin:0.8018\n",
      "loss:0.9473, logdet:2.3743 pz:-1.4215 latentstd:0.9730 latentstdmax:1.6856 latentstdmin:0.7080\n",
      "loss:0.9374, logdet:2.3803 pz:-1.4207 latentstd:0.9729 latentstdmax:1.6911 latentstdmin:0.7223\n",
      "loss:0.9233, logdet:2.3943 pz:-1.4248 latentstd:0.9800 latentstdmax:1.6380 latentstdmin:0.7223\n",
      "loss:0.9008, logdet:2.3999 pz:-1.4149 latentstd:0.9698 latentmean:0.0093 recon_loss:0.0033\n"
     ]
    },
    {
     "data": {
      "application/vnd.jupyter.widget-view+json": {
       "model_id": "a5d03c2ee8c64126a783ef7d57cfb2c1",
       "version_major": 2,
       "version_minor": 0
      },
      "text/plain": [
       "HBox(children=(IntProgress(value=0, max=469), HTML(value='')))"
      ]
     },
     "metadata": {},
     "output_type": "display_data"
    },
    {
     "name": "stdout",
     "output_type": "stream",
     "text": [
      "loss:0.9289, logdet:2.3927 pz:-1.4271 latentstd:0.9820 latentstdmax:1.6132 latentstdmin:0.7245\n",
      "loss:1.0501, logdet:2.3241 pz:-1.4425 latentstd:0.9791 latentstdmax:1.8603 latentstdmin:0.6177\n",
      "loss:1.0365, logdet:2.3254 pz:-1.4344 latentstd:0.9730 latentstdmax:1.9524 latentstdmin:0.6385\n",
      "loss:1.2417, logdet:2.0956 pz:-1.3469 latentstd:0.8551 latentstdmax:1.7741 latentstdmin:0.5119\n",
      "loss:1.3980, logdet:1.9847 pz:-1.3442 latentstd:0.8281 latentmean:-0.0183 recon_loss:0.0032\n"
     ]
    },
    {
     "data": {
      "application/vnd.jupyter.widget-view+json": {
       "model_id": "48389cf99aeb4e5e9e5fce95c6ab8fbf",
       "version_major": 2,
       "version_minor": 0
      },
      "text/plain": [
       "HBox(children=(IntProgress(value=0, max=469), HTML(value='')))"
      ]
     },
     "metadata": {},
     "output_type": "display_data"
    },
    {
     "ename": "KeyboardInterrupt",
     "evalue": "",
     "output_type": "error",
     "traceback": [
      "\u001b[0;31m---------------------------------------------------------------------------\u001b[0m",
      "\u001b[0;31mKeyboardInterrupt\u001b[0m                         Traceback (most recent call last)",
      "\u001b[0;32m<ipython-input-9-e78a86c2d39a>\u001b[0m in \u001b[0;36m<module>\u001b[0;34m()\u001b[0m\n\u001b[1;32m     44\u001b[0m \u001b[0;34m\u001b[0m\u001b[0m\n\u001b[1;32m     45\u001b[0m         \u001b[0;34m(\u001b[0m \u001b[0;34m-\u001b[0m \u001b[0mlogdet\u001b[0m \u001b[0;34m-\u001b[0m \u001b[0mpz\u001b[0m\u001b[0;34m)\u001b[0m\u001b[0;34m.\u001b[0m\u001b[0mbackward\u001b[0m\u001b[0;34m(\u001b[0m\u001b[0;34m)\u001b[0m\u001b[0;34m\u001b[0m\u001b[0m\n\u001b[0;32m---> 46\u001b[0;31m         \u001b[0;32mif\u001b[0m \u001b[0mtorch\u001b[0m\u001b[0;34m.\u001b[0m\u001b[0misnan\u001b[0m\u001b[0;34m(\u001b[0m\u001b[0mlogdet\u001b[0m\u001b[0;34m)\u001b[0m\u001b[0;34m:\u001b[0m\u001b[0;34m\u001b[0m\u001b[0m\n\u001b[0m\u001b[1;32m     47\u001b[0m             \u001b[0;32mraise\u001b[0m \u001b[0mException\u001b[0m\u001b[0;34m(\u001b[0m\u001b[0;34m)\u001b[0m\u001b[0;34m\u001b[0m\u001b[0m\n\u001b[1;32m     48\u001b[0m         \u001b[0mpzes\u001b[0m\u001b[0;34m.\u001b[0m\u001b[0mappend\u001b[0m\u001b[0;34m(\u001b[0m\u001b[0mpz\u001b[0m\u001b[0;34m.\u001b[0m\u001b[0mitem\u001b[0m\u001b[0;34m(\u001b[0m\u001b[0;34m)\u001b[0m\u001b[0;34m)\u001b[0m\u001b[0;34m\u001b[0m\u001b[0m\n",
      "\u001b[0;31mKeyboardInterrupt\u001b[0m: "
     ]
    }
   ],
   "source": [
    "#del pz,  logdet, latent, latentstd\n",
    "%matplotlib notebook\n",
    "fig,(ax,ax2) = plt.subplots(1,2,figsize=(18,8))\n",
    "axim = None\n",
    "axscatter = None\n",
    "fig.canvas.draw()\n",
    "\n",
    "use_normal = True\n",
    "\n",
    "def torchSigWMW( target,pred, beta=8):    \n",
    "    mask = target.type(torch.cuda.ByteTensor)\n",
    "    x = torch.masked_select(pred, 1+(-1)*mask).view(1,-1)\n",
    "    y = torch.masked_select(pred, mask).view(-1,1)\n",
    "    xn = x.expand(y.size(0), x.size(1))\n",
    "    yn = y.expand(y.size(0), x.size(1))\n",
    "    ur = torch.sigmoid(-beta*(xn-yn))\n",
    "    return torch.sum(ur) / torch.sum(target) / torch.sum(1-target)\n",
    "\n",
    "def criterion(pred, target):\n",
    "    # return ((pred - (target * dist * 2 - dist)) ** 2).mean() \n",
    "    return torchSigWMW(target, pred)\n",
    "\n",
    "\n",
    "for epoch in tqdm(range(0,200)):  \n",
    "    itercount = 0\n",
    "    for inp, _ in tqdm(trainloader):\n",
    "        \n",
    "        net.train()\n",
    "        optim.zero_grad()\n",
    "        inp = inp.cuda()\n",
    "        latent, logdet = net(inp + (torch.rand_like(inp).cuda() - 0.5) / ( n_bins)  , return_logdet=True, num_logdet_iter=1) \n",
    "        logdet /= inp.shape[2] * inp.shape[3]\n",
    "        flat_latent = latent.flatten(1) #torch.cat([l.view(inp.shape[0], -1) for l in latent], dim=1)\n",
    "        latentstd = torch.mean(flat_latent.std(dim=0))\n",
    "        latentstdmax = torch.max(flat_latent.std(dim=0))\n",
    "        latentstdmin = torch.min(flat_latent.std(dim=0))\n",
    "\n",
    "        pz = -(flat_latent ** 2).sum(dim=1) / 2 / std /std            \n",
    "        pz = pz.mean()\n",
    "        pz /= inp.shape[2] * inp.shape[3]\n",
    "        pz -= 0.5 * np.log(2 * 3.1415 * std * std)\n",
    "        \n",
    "        np_loss = ( np.log(n_bins) -logdet.item()-pz.item()) / np.log(2)\n",
    "       \n",
    "        ( - logdet - pz).backward()\n",
    "        if torch.isnan(logdet):\n",
    "            raise Exception()\n",
    "        pzes.append(pz.item())\n",
    "        logdets.append(logdet.item())\n",
    "        losses.append(np_loss)\n",
    "        torch.nn.utils.clip_grad_norm_(net.parameters(), 1.0)\n",
    "        optim.step()\n",
    "        itercount += 1\n",
    "        if itercount % 100 == 0:\n",
    "            print ('loss:{:.4f}, logdet:{:.4f} pz:{:.4f} latentstd:{:.4f} latentstdmax:{:.4f} latentstdmin:{:.4f}'.format(\n",
    "                np_loss, logdet.item(),pz.item(),latentstd.item(),latentstdmax.item(),latentstdmin.item()))\n",
    "  \n",
    "        #del pz,  logdet, latent, latentstd\n",
    "    \n",
    "    #if itercount % 10 == 0:\n",
    "    #net.eval()\n",
    "    latents = []\n",
    "    with torch.no_grad():\n",
    "        latent_numpy = []\n",
    "        for test_batch, _ in testloader:\n",
    "            test_batch = test_batch.cuda()\n",
    "            latent = net(test_batch + (torch.rand_like(test_batch).cuda() - 0.5) / ( n_bins), return_logdet=False)\n",
    "            _latent_numpy = latent.flatten(1).detach().cpu().numpy()\n",
    "            #_latent_numpy = torch.cat([l.contiguous().view(test_batch.shape[0], -1) for l in latent], dim=1).detach().cpu().numpy()\n",
    "            latent_numpy.append(_latent_numpy)\n",
    "            break\n",
    "        latent_numpy = np.concatenate(latent_numpy)\n",
    "\n",
    "        pred = net(latent[:1], reverse=True, reverse_iterations=200)\n",
    "        fixed_z = torch.randn_like(fixed_z).cuda()\n",
    "        #fixed_z = [torch.randn_like(f) for f in fixed_z]\n",
    "        pred_sample = net(fixed_z, reverse=True, reverse_iterations=200)\n",
    "\n",
    "        recon_loss = F.mse_loss(test_batch[:1], pred)\n",
    "    #if itercount >0:\n",
    "    print ('loss:{:.4f}, logdet:{:.4f} pz:{:.4f} latentstd:{:.4f} latentmean:{:.4f} recon_loss:{:.4f}'.format(\n",
    "    np_loss, logdet.item(),pz.item(), np.mean(latent_numpy.std(axis=0)),np.mean(latent_numpy.mean(axis=0)),  recon_loss.item()))\n",
    "\n",
    "\n",
    "\n",
    "    pred_np = pred[0].cpu().detach().numpy().reshape((height,width))\n",
    "    inp_np = test_batch[0].cpu().detach().numpy().reshape((height,width))            \n",
    "    pred_sample_np = pred_sample[0].cpu().detach().numpy().reshape((height,width))\n",
    "    disp = np.concatenate([pred_np, inp_np, pred_sample_np], axis=1)\n",
    "    if axim:\n",
    "        axim.set_data(disp)\n",
    "    else:\n",
    "        axim = ax.imshow(disp, vmin=-1.0, vmax=1.0)\n",
    "\n",
    "\n",
    "    ax2.clear()\n",
    "    ax2.scatter(normal_np[:1000,0], normal_np[:1000,1], c='g')            \n",
    "    ax2.scatter(latent_numpy[:1000,-1], latent_numpy[:1000,-2],  c='r')  \n",
    "    fig.canvas.draw()\n",
    "    latent_numpys.append(latent_numpy) \n",
    "\n",
    "    #with torch.no_grad():\n",
    "    #    for name, param in net.named_parameters():\n",
    "    #        if '.weight' in name:\n",
    "    #            param /= torch.sqrt((param ** 2).sum())"
   ]
  },
  {
   "cell_type": "code",
   "execution_count": null,
   "metadata": {},
   "outputs": [],
   "source": [
    "latent_numpys = np.array(latent_numpys)"
   ]
  },
  {
   "cell_type": "code",
   "execution_count": null,
   "metadata": {},
   "outputs": [],
   "source": [
    "dists = torch.from_numpy(np.array([[dist,-dist], [dist, dist], [-dist, dist], [-dist,-dist]]).astype(np.float32)).cuda()"
   ]
  },
  {
   "cell_type": "code",
   "execution_count": null,
   "metadata": {},
   "outputs": [],
   "source": [
    "latent_numpys.shape"
   ]
  },
  {
   "cell_type": "code",
   "execution_count": null,
   "metadata": {},
   "outputs": [],
   "source": [
    "latent_numpys = latent_numpys.reshape((-1,80,2560,2))"
   ]
  },
  {
   "cell_type": "code",
   "execution_count": null,
   "metadata": {},
   "outputs": [],
   "source": [
    "latent_numpy = latent_numpys[0,-1]"
   ]
  },
  {
   "cell_type": "code",
   "execution_count": null,
   "metadata": {},
   "outputs": [],
   "source": [
    "latent_numpy.shape"
   ]
  },
  {
   "cell_type": "code",
   "execution_count": null,
   "metadata": {},
   "outputs": [],
   "source": [
    "np.std(latent_numpy[np.logical_and(latent_numpy[:,0] > 0, latent_numpy[:,1] < 0)], axis=0)"
   ]
  },
  {
   "cell_type": "code",
   "execution_count": null,
   "metadata": {},
   "outputs": [],
   "source": [
    "np.mean(latent_numpy[np.logical_and(latent_numpy[:,0] < 0, latent_numpy[:,1] < 0)], axis=0)"
   ]
  },
  {
   "cell_type": "code",
   "execution_count": null,
   "metadata": {},
   "outputs": [],
   "source": [
    "%matplotlib notebook\n",
    "fig,ax =  plt.subplots(1,1,figsize=(8,8))\n",
    "def scroll(event):\n",
    "    global i, latent_numpys\n",
    "    oldi = i\n",
    "    if event.key == 'e':\n",
    "        i -= 1\n",
    "    elif event.key =='d':\n",
    "        i += 1\n",
    "    if i < 0: i = 0\n",
    "    if i >= len(latent_numpys[0]) - 0: i = len(latent_numpys[0]) - 1\n",
    "    if oldi != i:\n",
    "        ax.clear()\n",
    "        latent_numpy = latent_numpys[0][i][-1]\n",
    "        \n",
    "        ax.clear()\n",
    "        _ = ax.hist(latent_numpys[0][i][:,1], bins=100, density=True)\n",
    "        _ = ax.hist(normal_np[:,1], bins=100, density=True)\n",
    "        \n",
    "        fig.canvas.draw()\n",
    "        #ax.set_xlim(-3,3)\n",
    "        #ax.set_ylim(-3,3)\n",
    "\n",
    "\n",
    "cid1 = fig.canvas.mpl_connect('key_press_event', scroll)\n",
    "i = 0\n",
    "latent_numpy = latent_numpys[0][i][-1]\n",
    "ax.clear()\n",
    "_ = ax.hist(latent_numpys[0][i][:,1], bins=100, density=True)\n",
    "_ = ax.hist(normal_np[:,1], bins=100, density=True)\n",
    "\n",
    "\n",
    "fig.canvas.draw()\n",
    "#ax.set_xlim(-3,3)\n",
    "#ax.set_ylim(-3,3)\n"
   ]
  },
  {
   "cell_type": "code",
   "execution_count": null,
   "metadata": {},
   "outputs": [],
   "source": [
    "%matplotlib notebook\n",
    "fig,ax =  plt.subplots(1,1,figsize=(8,8))\n",
    "def scroll(event):\n",
    "    global i, latent_numpys\n",
    "    oldi = i\n",
    "    if event.key == 'e':\n",
    "        i -= 1\n",
    "    elif event.key =='d':\n",
    "        i += 1\n",
    "    if i < 0: i = 0\n",
    "    if i >= len(latent_numpys[0]) - 0: i = len(latent_numpys[0]) - 1\n",
    "    if oldi != i:\n",
    "        ax.clear()\n",
    "        latent_numpy = latent_numpys[0,i]\n",
    "        \n",
    "        ax.clear()\n",
    "        ax.scatter(normal_np[:,0], normal_np[:,1], c='g') \n",
    "        ax.scatter(latent_numpy[:500,0], latent_numpy[:500,1],  c='r')  \n",
    "        fig.canvas.draw()\n",
    "        #ax.set_xlim(-3,3)\n",
    "        #ax.set_ylim(-3,3)\n",
    "\n",
    "\n",
    "cid1 = fig.canvas.mpl_connect('key_press_event', scroll)\n",
    "i = 0\n",
    "latent_numpy = latent_numpys[0,i]\n",
    "ax.clear()\n",
    "ax.scatter(normal_np[:,0], normal_np[:,1], c='g')\n",
    "ax.scatter(latent_numpy[:500,0], latent_numpy[:500,1],  c='r')  \n",
    "fig.canvas.draw()\n",
    "#ax.set_xlim(-3,3)\n",
    "#ax.set_ylim(-3,3)"
   ]
  },
  {
   "cell_type": "code",
   "execution_count": null,
   "metadata": {},
   "outputs": [],
   "source": [
    "%matplotlib inline\n",
    "plt.plot(range(len(losses[:])), losses[:])"
   ]
  },
  {
   "cell_type": "code",
   "execution_count": null,
   "metadata": {},
   "outputs": [],
   "source": [
    "%matplotlib inline\n",
    "plt.plot(range(len(logdets[:])), logdets[:])"
   ]
  },
  {
   "cell_type": "code",
   "execution_count": null,
   "metadata": {},
   "outputs": [],
   "source": [
    "%matplotlib inline\n",
    "plt.plot(range(len(pzes[250:])), pzes[250:])"
   ]
  },
  {
   "cell_type": "code",
   "execution_count": null,
   "metadata": {},
   "outputs": [],
   "source": []
  }
 ],
 "metadata": {
  "kernelspec": {
   "display_name": "Python 3",
   "language": "python",
   "name": "python3"
  },
  "language_info": {
   "codemirror_mode": {
    "name": "ipython",
    "version": 3
   },
   "file_extension": ".py",
   "mimetype": "text/x-python",
   "name": "python",
   "nbconvert_exporter": "python",
   "pygments_lexer": "ipython3",
   "version": "3.5.2"
  }
 },
 "nbformat": 4,
 "nbformat_minor": 2
}
